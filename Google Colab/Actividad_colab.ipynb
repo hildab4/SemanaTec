{
  "nbformat": 4,
  "nbformat_minor": 0,
  "metadata": {
    "colab": {
      "name": "Actividad_colab.ipynb",
      "provenance": []
    },
    "kernelspec": {
      "name": "python3",
      "display_name": "Python 3"
    },
    "language_info": {
      "name": "python"
    }
  },
  "cells": [
    {
      "cell_type": "code",
      "execution_count": 1,
      "metadata": {
        "colab": {
          "base_uri": "https://localhost:8080/"
        },
        "id": "PEirrpOO5yLp",
        "outputId": "a662e8eb-c061-46d4-f1c6-03be1a3b19cf"
      },
      "outputs": [
        {
          "output_type": "stream",
          "name": "stdout",
          "text": [
            "Mounted at /content/gdrive\n"
          ]
        }
      ],
      "source": [
        "from google.colab import drive\n",
        "drive.mount('/content/gdrive')"
      ]
    },
    {
      "cell_type": "code",
      "source": [
        "! git clone https://github.com/hildab4/SemanaTec.git"
      ],
      "metadata": {
        "colab": {
          "base_uri": "https://localhost:8080/"
        },
        "id": "Zjd7_Xyk8IPE",
        "outputId": "a80e5a11-2fb8-4114-9b82-0560111430ec"
      },
      "execution_count": 2,
      "outputs": [
        {
          "output_type": "stream",
          "name": "stdout",
          "text": [
            "Cloning into 'SemanaTec'...\n",
            "remote: Enumerating objects: 3, done.\u001b[K\n",
            "remote: Counting objects: 100% (3/3), done.\u001b[K\n",
            "remote: Total 3 (delta 0), reused 0 (delta 0), pack-reused 0\u001b[K\n",
            "Unpacking objects: 100% (3/3), done.\n"
          ]
        }
      ]
    },
    {
      "cell_type": "markdown",
      "source": [
        "Cambios en README - main"
      ],
      "metadata": {
        "id": "LQxebqz78oJy"
      }
    },
    {
      "cell_type": "code",
      "source": [
        "% cd SemanaTec"
      ],
      "metadata": {
        "colab": {
          "base_uri": "https://localhost:8080/"
        },
        "id": "APqQ49yl8rKY",
        "outputId": "637814a0-33b8-4782-ad94-e84101fe0d58"
      },
      "execution_count": 7,
      "outputs": [
        {
          "output_type": "stream",
          "name": "stdout",
          "text": [
            "/content/SemanaTec\n",
            "/content/SemanaTec\n"
          ]
        }
      ]
    },
    {
      "cell_type": "code",
      "source": [
        "! ls\n",
        "! cat README.md"
      ],
      "metadata": {
        "colab": {
          "base_uri": "https://localhost:8080/"
        },
        "id": "N_OkmlR0YJac",
        "outputId": "d603818e-d58e-4715-a57d-66a088a2ca2c"
      },
      "execution_count": 9,
      "outputs": [
        {
          "output_type": "stream",
          "name": "stdout",
          "text": [
            "README.md\n",
            "# SemanaTec\n",
            "\n",
            "Cambios en README - main"
          ]
        }
      ]
    },
    {
      "cell_type": "code",
      "source": [
        "! git add .\n",
        "! git commit -m \"Cambio en archivo README.md\"\n",
        "! git push origin main"
      ],
      "metadata": {
        "colab": {
          "base_uri": "https://localhost:8080/"
        },
        "id": "j3CT6EdNPwyE",
        "outputId": "8be4e44d-1f67-4fd6-8971-4723768c1027"
      },
      "execution_count": 13,
      "outputs": [
        {
          "output_type": "stream",
          "name": "stdout",
          "text": [
            "[main 0451d50] Cambio en archivo README.md\n",
            " 1 file changed, 3 insertions(+), 1 deletion(-)\n",
            "fatal: could not read Username for 'https://github.com': No such device or address\n"
          ]
        }
      ]
    },
    {
      "cell_type": "code",
      "source": [
        "! git config --global user.email \"a01251916@tec.mx\"\n",
        "! git config --global user.name \"Hilda\""
      ],
      "metadata": {
        "id": "7L8c96tVQRpo"
      },
      "execution_count": 16,
      "outputs": []
    },
    {
      "cell_type": "code",
      "source": [
        "! git checkout -b \"dev\""
      ],
      "metadata": {
        "colab": {
          "base_uri": "https://localhost:8080/"
        },
        "id": "qJ8YGr54RYv8",
        "outputId": "af8363d1-65c2-431b-d2d5-d9ea06326add"
      },
      "execution_count": 14,
      "outputs": [
        {
          "output_type": "stream",
          "name": "stdout",
          "text": [
            "Switched to a new branch 'dev'\n"
          ]
        }
      ]
    },
    {
      "cell_type": "code",
      "source": [
        "! git add .\n",
        "! git commit -m \"Cambio en archivo README.md dev\"\n",
        "! git push origin dev"
      ],
      "metadata": {
        "colab": {
          "base_uri": "https://localhost:8080/"
        },
        "id": "TJ-91BezR3iM",
        "outputId": "a9c09829-46f2-49db-f6ce-1329491fff56"
      },
      "execution_count": 17,
      "outputs": [
        {
          "output_type": "stream",
          "name": "stdout",
          "text": [
            "On branch dev\n",
            "nothing to commit, working tree clean\n",
            "fatal: could not read Username for 'https://github.com': No such device or address\n"
          ]
        }
      ]
    }
  ]
}